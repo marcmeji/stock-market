{
 "cells": [
  {
   "cell_type": "code",
   "execution_count": 1,
   "metadata": {},
   "outputs": [],
   "source": [
    "import pandas as pd\n",
    "import numpy as np\n",
    "import matplotlib.pyplot as plt\n",
    "%matplotlib inline\n",
    "import seaborn as sns"
   ]
  },
  {
   "cell_type": "code",
   "execution_count": 2,
   "metadata": {},
   "outputs": [],
   "source": [
    "companies = pd.read_csv('../../companies.csv')"
   ]
  },
  {
   "cell_type": "code",
   "execution_count": 3,
   "metadata": {},
   "outputs": [
    {
     "data": {
      "text/html": [
       "<div>\n",
       "<style scoped>\n",
       "    .dataframe tbody tr th:only-of-type {\n",
       "        vertical-align: middle;\n",
       "    }\n",
       "\n",
       "    .dataframe tbody tr th {\n",
       "        vertical-align: top;\n",
       "    }\n",
       "\n",
       "    .dataframe thead th {\n",
       "        text-align: right;\n",
       "    }\n",
       "</style>\n",
       "<table border=\"1\" class=\"dataframe\">\n",
       "  <thead>\n",
       "    <tr style=\"text-align: right;\">\n",
       "      <th></th>\n",
       "      <th>Date</th>\n",
       "      <th>Last</th>\n",
       "      <th>Open</th>\n",
       "      <th>Max</th>\n",
       "      <th>Min</th>\n",
       "      <th>Vol</th>\n",
       "      <th>Var_%</th>\n",
       "      <th>Company</th>\n",
       "    </tr>\n",
       "  </thead>\n",
       "  <tbody>\n",
       "    <tr>\n",
       "      <th>0</th>\n",
       "      <td>2019-10-22</td>\n",
       "      <td>92.05</td>\n",
       "      <td>91.60</td>\n",
       "      <td>92.70</td>\n",
       "      <td>91.40</td>\n",
       "      <td>52.67</td>\n",
       "      <td>-0.05</td>\n",
       "      <td>Acciona</td>\n",
       "    </tr>\n",
       "    <tr>\n",
       "      <th>1</th>\n",
       "      <td>2019-10-21</td>\n",
       "      <td>92.10</td>\n",
       "      <td>91.35</td>\n",
       "      <td>92.10</td>\n",
       "      <td>90.80</td>\n",
       "      <td>56.13</td>\n",
       "      <td>0.99</td>\n",
       "      <td>Acciona</td>\n",
       "    </tr>\n",
       "    <tr>\n",
       "      <th>2</th>\n",
       "      <td>2019-10-18</td>\n",
       "      <td>91.20</td>\n",
       "      <td>92.10</td>\n",
       "      <td>92.55</td>\n",
       "      <td>90.90</td>\n",
       "      <td>54.43</td>\n",
       "      <td>-0.98</td>\n",
       "      <td>Acciona</td>\n",
       "    </tr>\n",
       "    <tr>\n",
       "      <th>3</th>\n",
       "      <td>2019-10-17</td>\n",
       "      <td>92.10</td>\n",
       "      <td>92.10</td>\n",
       "      <td>92.35</td>\n",
       "      <td>91.25</td>\n",
       "      <td>70.36</td>\n",
       "      <td>0.11</td>\n",
       "      <td>Acciona</td>\n",
       "    </tr>\n",
       "    <tr>\n",
       "      <th>4</th>\n",
       "      <td>2019-10-16</td>\n",
       "      <td>92.00</td>\n",
       "      <td>91.20</td>\n",
       "      <td>92.70</td>\n",
       "      <td>90.75</td>\n",
       "      <td>73.84</td>\n",
       "      <td>0.33</td>\n",
       "      <td>Acciona</td>\n",
       "    </tr>\n",
       "  </tbody>\n",
       "</table>\n",
       "</div>"
      ],
      "text/plain": [
       "         Date   Last   Open    Max    Min    Vol  Var_%  Company\n",
       "0  2019-10-22  92.05  91.60  92.70  91.40  52.67  -0.05  Acciona\n",
       "1  2019-10-21  92.10  91.35  92.10  90.80  56.13   0.99  Acciona\n",
       "2  2019-10-18  91.20  92.10  92.55  90.90  54.43  -0.98  Acciona\n",
       "3  2019-10-17  92.10  92.10  92.35  91.25  70.36   0.11  Acciona\n",
       "4  2019-10-16  92.00  91.20  92.70  90.75  73.84   0.33  Acciona"
      ]
     },
     "execution_count": 3,
     "metadata": {},
     "output_type": "execute_result"
    }
   ],
   "source": [
    "companies.head()"
   ]
  },
  {
   "cell_type": "code",
   "execution_count": 4,
   "metadata": {},
   "outputs": [
    {
     "name": "stdout",
     "output_type": "stream",
     "text": [
      "<class 'pandas.core.frame.DataFrame'>\n",
      "RangeIndex: 70806 entries, 0 to 70805\n",
      "Data columns (total 8 columns):\n",
      "Date       70806 non-null object\n",
      "Last       70806 non-null float64\n",
      "Open       70806 non-null float64\n",
      "Max        70806 non-null float64\n",
      "Min        70806 non-null float64\n",
      "Vol        70806 non-null float64\n",
      "Var_%      70806 non-null float64\n",
      "Company    70806 non-null object\n",
      "dtypes: float64(6), object(2)\n",
      "memory usage: 4.3+ MB\n"
     ]
    }
   ],
   "source": [
    "companies.info()"
   ]
  },
  {
   "cell_type": "code",
   "execution_count": 6,
   "metadata": {},
   "outputs": [],
   "source": [
    "#companies.to_csv('Clean dfs/companies_clean.csv', index=False)"
   ]
  },
  {
   "cell_type": "code",
   "execution_count": null,
   "metadata": {},
   "outputs": [],
   "source": []
  }
 ],
 "metadata": {
  "kernelspec": {
   "display_name": "Python 3",
   "language": "python",
   "name": "python3"
  },
  "language_info": {
   "codemirror_mode": {
    "name": "ipython",
    "version": 3
   },
   "file_extension": ".py",
   "mimetype": "text/x-python",
   "name": "python",
   "nbconvert_exporter": "python",
   "pygments_lexer": "ipython3",
   "version": "3.7.1"
  }
 },
 "nbformat": 4,
 "nbformat_minor": 2
}
