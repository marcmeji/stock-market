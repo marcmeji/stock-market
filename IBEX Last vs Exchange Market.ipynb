{
 "cells": [
  {
   "cell_type": "code",
   "execution_count": 1,
   "metadata": {},
   "outputs": [],
   "source": [
    "import pandas as pd\n",
    "import numpy as np\n",
    "import matplotlib.pyplot as plt\n",
    "%matplotlib inline\n",
    "import seaborn as sns"
   ]
  },
  {
   "cell_type": "code",
   "execution_count": 2,
   "metadata": {},
   "outputs": [
    {
     "data": {
      "text/html": [
       "<div>\n",
       "<style scoped>\n",
       "    .dataframe tbody tr th:only-of-type {\n",
       "        vertical-align: middle;\n",
       "    }\n",
       "\n",
       "    .dataframe tbody tr th {\n",
       "        vertical-align: top;\n",
       "    }\n",
       "\n",
       "    .dataframe thead th {\n",
       "        text-align: right;\n",
       "    }\n",
       "</style>\n",
       "<table border=\"1\" class=\"dataframe\">\n",
       "  <thead>\n",
       "    <tr style=\"text-align: right;\">\n",
       "      <th></th>\n",
       "      <th>Date</th>\n",
       "      <th>Last</th>\n",
       "      <th>Open</th>\n",
       "      <th>Max</th>\n",
       "      <th>Min</th>\n",
       "      <th>Vol_K</th>\n",
       "      <th>Var_%</th>\n",
       "      <th>Index</th>\n",
       "    </tr>\n",
       "  </thead>\n",
       "  <tbody>\n",
       "    <tr>\n",
       "      <td>0</td>\n",
       "      <td>2019-10-23</td>\n",
       "      <td>9358.5</td>\n",
       "      <td>9347.5</td>\n",
       "      <td>9380.0</td>\n",
       "      <td>9334.0</td>\n",
       "      <td>NaN</td>\n",
       "      <td>-0.23</td>\n",
       "      <td>IBEX_10years</td>\n",
       "    </tr>\n",
       "    <tr>\n",
       "      <td>1</td>\n",
       "      <td>2019-10-22</td>\n",
       "      <td>9380.2</td>\n",
       "      <td>9393.3</td>\n",
       "      <td>9417.4</td>\n",
       "      <td>9344.6</td>\n",
       "      <td>139000.50</td>\n",
       "      <td>-0.24</td>\n",
       "      <td>IBEX_10years</td>\n",
       "    </tr>\n",
       "    <tr>\n",
       "      <td>2</td>\n",
       "      <td>2019-10-21</td>\n",
       "      <td>9402.3</td>\n",
       "      <td>9350.3</td>\n",
       "      <td>9424.3</td>\n",
       "      <td>9342.1</td>\n",
       "      <td>167000.99</td>\n",
       "      <td>0.78</td>\n",
       "      <td>IBEX_10years</td>\n",
       "    </tr>\n",
       "    <tr>\n",
       "      <td>3</td>\n",
       "      <td>2019-10-18</td>\n",
       "      <td>9329.8</td>\n",
       "      <td>9310.3</td>\n",
       "      <td>9362.2</td>\n",
       "      <td>9307.6</td>\n",
       "      <td>150000.24</td>\n",
       "      <td>-0.11</td>\n",
       "      <td>IBEX_10years</td>\n",
       "    </tr>\n",
       "    <tr>\n",
       "      <td>4</td>\n",
       "      <td>2019-10-17</td>\n",
       "      <td>9340.0</td>\n",
       "      <td>9360.9</td>\n",
       "      <td>9494.5</td>\n",
       "      <td>9340.0</td>\n",
       "      <td>195000.29</td>\n",
       "      <td>-0.50</td>\n",
       "      <td>IBEX_10years</td>\n",
       "    </tr>\n",
       "  </tbody>\n",
       "</table>\n",
       "</div>"
      ],
      "text/plain": [
       "        Date    Last    Open     Max     Min      Vol_K  Var_%         Index\n",
       "0 2019-10-23  9358.5  9347.5  9380.0  9334.0        NaN  -0.23  IBEX_10years\n",
       "1 2019-10-22  9380.2  9393.3  9417.4  9344.6  139000.50  -0.24  IBEX_10years\n",
       "2 2019-10-21  9402.3  9350.3  9424.3  9342.1  167000.99   0.78  IBEX_10years\n",
       "3 2019-10-18  9329.8  9310.3  9362.2  9307.6  150000.24  -0.11  IBEX_10years\n",
       "4 2019-10-17  9340.0  9360.9  9494.5  9340.0  195000.29  -0.50  IBEX_10years"
      ]
     },
     "execution_count": 2,
     "metadata": {},
     "output_type": "execute_result"
    }
   ],
   "source": [
    "ibex = pd.read_csv('data/indexes/Clean dfs/ibex.csv')\n",
    "ibex['Date'] = pd.to_datetime(ibex['Date'], format='%Y.%m.%d')\n",
    "ibex.head()"
   ]
  },
  {
   "cell_type": "code",
   "execution_count": 3,
   "metadata": {},
   "outputs": [],
   "source": [
    "import glob\n",
    "import re\n",
    "\n",
    "files = glob.glob('data/exchange market/*.csv')\n",
    "\n",
    "index_names = []\n",
    "index_list = []\n",
    "for file in files:\n",
    "    name = re.findall('\\\\\\(.+).csv', file)\n",
    "    name_string = ''.join(name)\n",
    "    index_names.append(name_string)\n",
    "    index_list.append(name_string)\n",
    "\n",
    "for i in range(len(index_names)):\n",
    "    index_names[i] = pd.read_csv('data//exchange market/'+index_names[i]+'.csv', index_col=None, header=0)\n",
    "    "
   ]
  },
  {
   "cell_type": "code",
   "execution_count": 4,
   "metadata": {},
   "outputs": [],
   "source": [
    "bitcoin = index_names[0]\n",
    "eur_cny = index_names[1]\n",
    "eur_gbp = index_names[2]\n",
    "eur_usd = index_names[3]"
   ]
  },
  {
   "cell_type": "code",
   "execution_count": 5,
   "metadata": {},
   "outputs": [
    {
     "data": {
      "text/html": [
       "<div>\n",
       "<style scoped>\n",
       "    .dataframe tbody tr th:only-of-type {\n",
       "        vertical-align: middle;\n",
       "    }\n",
       "\n",
       "    .dataframe tbody tr th {\n",
       "        vertical-align: top;\n",
       "    }\n",
       "\n",
       "    .dataframe thead th {\n",
       "        text-align: right;\n",
       "    }\n",
       "</style>\n",
       "<table border=\"1\" class=\"dataframe\">\n",
       "  <thead>\n",
       "    <tr style=\"text-align: right;\">\n",
       "      <th></th>\n",
       "      <th>Fecha</th>\n",
       "      <th>Último</th>\n",
       "      <th>Apertura</th>\n",
       "      <th>Máximo</th>\n",
       "      <th>Mínimo</th>\n",
       "      <th>% var.</th>\n",
       "    </tr>\n",
       "  </thead>\n",
       "  <tbody>\n",
       "    <tr>\n",
       "      <td>0</td>\n",
       "      <td>23.10.2019</td>\n",
       "      <td>0,8616</td>\n",
       "      <td>0,8638</td>\n",
       "      <td>0,8659</td>\n",
       "      <td>0,8615</td>\n",
       "      <td>-0,30%</td>\n",
       "    </tr>\n",
       "    <tr>\n",
       "      <td>1</td>\n",
       "      <td>22.10.2019</td>\n",
       "      <td>0,8642</td>\n",
       "      <td>0,8603</td>\n",
       "      <td>0,8646</td>\n",
       "      <td>0,8576</td>\n",
       "      <td>0,45%</td>\n",
       "    </tr>\n",
       "    <tr>\n",
       "      <td>2</td>\n",
       "      <td>21.10.2019</td>\n",
       "      <td>0,8603</td>\n",
       "      <td>0,8623</td>\n",
       "      <td>0,8662</td>\n",
       "      <td>0,8577</td>\n",
       "      <td>-0,09%</td>\n",
       "    </tr>\n",
       "    <tr>\n",
       "      <td>3</td>\n",
       "      <td>18.10.2019</td>\n",
       "      <td>0,8611</td>\n",
       "      <td>0,8631</td>\n",
       "      <td>0,8665</td>\n",
       "      <td>0,8599</td>\n",
       "      <td>-0,22%</td>\n",
       "    </tr>\n",
       "    <tr>\n",
       "      <td>4</td>\n",
       "      <td>17.10.2019</td>\n",
       "      <td>0,8630</td>\n",
       "      <td>0,8629</td>\n",
       "      <td>0,8704</td>\n",
       "      <td>0,8572</td>\n",
       "      <td>0,01%</td>\n",
       "    </tr>\n",
       "  </tbody>\n",
       "</table>\n",
       "</div>"
      ],
      "text/plain": [
       "        Fecha  Último Apertura  Máximo  Mínimo  % var.\n",
       "0  23.10.2019  0,8616   0,8638  0,8659  0,8615  -0,30%\n",
       "1  22.10.2019  0,8642   0,8603  0,8646  0,8576   0,45%\n",
       "2  21.10.2019  0,8603   0,8623  0,8662  0,8577  -0,09%\n",
       "3  18.10.2019  0,8611   0,8631  0,8665  0,8599  -0,22%\n",
       "4  17.10.2019  0,8630   0,8629  0,8704  0,8572   0,01%"
      ]
     },
     "execution_count": 5,
     "metadata": {},
     "output_type": "execute_result"
    }
   ],
   "source": [
    "eur_gbp.head()"
   ]
  },
  {
   "cell_type": "code",
   "execution_count": 6,
   "metadata": {},
   "outputs": [
    {
     "data": {
      "text/plain": [
       "['Bitcoin', 'EUR_CNY', 'EUR_GBP', 'EUR_USD']"
      ]
     },
     "execution_count": 6,
     "metadata": {},
     "output_type": "execute_result"
    }
   ],
   "source": [
    "index_list"
   ]
  },
  {
   "cell_type": "code",
   "execution_count": 7,
   "metadata": {},
   "outputs": [],
   "source": [
    "def number_formatting(x):\n",
    "    a = x.replace('.','')\n",
    "    return a.replace(',','.')\n",
    "\n",
    "\n",
    "for df in [bitcoin, eur_cny, eur_gbp, eur_usd]:\n",
    "    \n",
    "    if 'Vol.' in df.columns:\n",
    "        df.drop(columns='Vol.', inplace=True)\n",
    "    df.drop(columns=['Apertura','Máximo', 'Mínimo', '% var.'], inplace=True)\n",
    "    \n",
    "    df.columns = ['Date', 'Last']\n",
    "    df['Date'] = pd.to_datetime(df['Date'], format='%d.%m.%Y')\n",
    "    \n",
    "    df['Last'] = df['Last'].apply(number_formatting)\n",
    "    df['Last'] = pd.to_numeric(df['Last'])\n",
    "    \n",
    "   \n",
    "    "
   ]
  },
  {
   "cell_type": "code",
   "execution_count": 8,
   "metadata": {},
   "outputs": [
    {
     "data": {
      "text/html": [
       "<div>\n",
       "<style scoped>\n",
       "    .dataframe tbody tr th:only-of-type {\n",
       "        vertical-align: middle;\n",
       "    }\n",
       "\n",
       "    .dataframe tbody tr th {\n",
       "        vertical-align: top;\n",
       "    }\n",
       "\n",
       "    .dataframe thead th {\n",
       "        text-align: right;\n",
       "    }\n",
       "</style>\n",
       "<table border=\"1\" class=\"dataframe\">\n",
       "  <thead>\n",
       "    <tr style=\"text-align: right;\">\n",
       "      <th></th>\n",
       "      <th>Date</th>\n",
       "      <th>Last</th>\n",
       "    </tr>\n",
       "  </thead>\n",
       "  <tbody>\n",
       "    <tr>\n",
       "      <td>0</td>\n",
       "      <td>2019-10-24</td>\n",
       "      <td>7433.3</td>\n",
       "    </tr>\n",
       "    <tr>\n",
       "      <td>1</td>\n",
       "      <td>2019-10-23</td>\n",
       "      <td>7477.0</td>\n",
       "    </tr>\n",
       "    <tr>\n",
       "      <td>2</td>\n",
       "      <td>2019-10-22</td>\n",
       "      <td>8031.4</td>\n",
       "    </tr>\n",
       "    <tr>\n",
       "      <td>3</td>\n",
       "      <td>2019-10-21</td>\n",
       "      <td>8208.2</td>\n",
       "    </tr>\n",
       "    <tr>\n",
       "      <td>4</td>\n",
       "      <td>2019-10-20</td>\n",
       "      <td>8223.4</td>\n",
       "    </tr>\n",
       "  </tbody>\n",
       "</table>\n",
       "</div>"
      ],
      "text/plain": [
       "        Date    Last\n",
       "0 2019-10-24  7433.3\n",
       "1 2019-10-23  7477.0\n",
       "2 2019-10-22  8031.4\n",
       "3 2019-10-21  8208.2\n",
       "4 2019-10-20  8223.4"
      ]
     },
     "execution_count": 8,
     "metadata": {},
     "output_type": "execute_result"
    }
   ],
   "source": [
    "bitcoin.head()\n"
   ]
  },
  {
   "cell_type": "markdown",
   "metadata": {},
   "source": [
    "## Appending exchange to ibex"
   ]
  },
  {
   "cell_type": "code",
   "execution_count": 18,
   "metadata": {},
   "outputs": [
    {
     "data": {
      "text/html": [
       "<div>\n",
       "<style scoped>\n",
       "    .dataframe tbody tr th:only-of-type {\n",
       "        vertical-align: middle;\n",
       "    }\n",
       "\n",
       "    .dataframe tbody tr th {\n",
       "        vertical-align: top;\n",
       "    }\n",
       "\n",
       "    .dataframe thead th {\n",
       "        text-align: right;\n",
       "    }\n",
       "</style>\n",
       "<table border=\"1\" class=\"dataframe\">\n",
       "  <thead>\n",
       "    <tr style=\"text-align: right;\">\n",
       "      <th></th>\n",
       "      <th>Date</th>\n",
       "      <th>Last</th>\n",
       "      <th>Last_bitcoin</th>\n",
       "      <th>Last_eur_cny</th>\n",
       "      <th>Last_eur_gbp</th>\n",
       "      <th>Last_eur_usd</th>\n",
       "    </tr>\n",
       "  </thead>\n",
       "  <tbody>\n",
       "    <tr>\n",
       "      <td>0</td>\n",
       "      <td>2019-10-23</td>\n",
       "      <td>9358.5</td>\n",
       "      <td>7477.0</td>\n",
       "      <td>7.8661</td>\n",
       "      <td>0.8616</td>\n",
       "      <td>1.1133</td>\n",
       "    </tr>\n",
       "    <tr>\n",
       "      <td>1</td>\n",
       "      <td>2019-10-22</td>\n",
       "      <td>9380.2</td>\n",
       "      <td>8031.4</td>\n",
       "      <td>7.8731</td>\n",
       "      <td>0.8642</td>\n",
       "      <td>1.1125</td>\n",
       "    </tr>\n",
       "    <tr>\n",
       "      <td>2</td>\n",
       "      <td>2019-10-21</td>\n",
       "      <td>9402.3</td>\n",
       "      <td>8208.2</td>\n",
       "      <td>7.8893</td>\n",
       "      <td>0.8603</td>\n",
       "      <td>1.1149</td>\n",
       "    </tr>\n",
       "    <tr>\n",
       "      <td>3</td>\n",
       "      <td>2019-10-18</td>\n",
       "      <td>9329.8</td>\n",
       "      <td>7948.5</td>\n",
       "      <td>7.9109</td>\n",
       "      <td>0.8611</td>\n",
       "      <td>1.1171</td>\n",
       "    </tr>\n",
       "    <tr>\n",
       "      <td>4</td>\n",
       "      <td>2019-10-17</td>\n",
       "      <td>9340.0</td>\n",
       "      <td>8073.3</td>\n",
       "      <td>7.8729</td>\n",
       "      <td>0.8630</td>\n",
       "      <td>1.1124</td>\n",
       "    </tr>\n",
       "  </tbody>\n",
       "</table>\n",
       "</div>"
      ],
      "text/plain": [
       "        Date    Last  Last_bitcoin  Last_eur_cny  Last_eur_gbp  Last_eur_usd\n",
       "0 2019-10-23  9358.5        7477.0        7.8661        0.8616        1.1133\n",
       "1 2019-10-22  9380.2        8031.4        7.8731        0.8642        1.1125\n",
       "2 2019-10-21  9402.3        8208.2        7.8893        0.8603        1.1149\n",
       "3 2019-10-18  9329.8        7948.5        7.9109        0.8611        1.1171\n",
       "4 2019-10-17  9340.0        8073.3        7.8729        0.8630        1.1124"
      ]
     },
     "execution_count": 18,
     "metadata": {},
     "output_type": "execute_result"
    }
   ],
   "source": [
    "ibex_base = ibex[['Date', 'Last']]\n",
    "\n",
    "\n",
    "bitcoin.columns = ['Date', 'Last_bitcoin']\n",
    "merged_dfs = ibex_base.merge(bitcoin, on='Date')\n",
    "\n",
    "\n",
    "eur_cny.columns = ['Date', 'Last_eur_cny']\n",
    "merged_dfs = merged_dfs.merge(eur_cny, on='Date')\n",
    "\n",
    "\n",
    "eur_gbp.columns = ['Date', 'Last_eur_gbp']\n",
    "merged_dfs = merged_dfs.merge(eur_gbp, on='Date')\n",
    "\n",
    "\n",
    "eur_usd.columns = ['Date', 'Last_eur_usd']\n",
    "merged_dfs = merged_dfs.merge(eur_usd, on='Date')\n",
    "\n",
    "\n",
    "merged_dfs.head()\n"
   ]
  },
  {
   "cell_type": "code",
   "execution_count": 19,
   "metadata": {},
   "outputs": [
    {
     "data": {
      "image/png": "[encoded data removed]",
      "text/plain": [
       "<Figure size 432x288 with 2 Axes>"
      ]
     },
     "metadata": {
      "needs_background": "light"
     },
     "output_type": "display_data"
    }
   ],
   "source": [
    "correlation = merged_dfs.corr()\n",
    "\n",
    "\n",
    "ax=sns.heatmap(correlation, annot=True)\n",
    "bottom, top = ax.get_ylim()\n",
    "ax.set_ylim(bottom + 0.5, top - 0.5)\n",
    "plt.show()"
   ]
  },
  {
   "cell_type": "code",
   "execution_count": null,
   "metadata": {},
   "outputs": [],
   "source": []
  }
 ],
 "metadata": {
  "kernelspec": {
   "display_name": "Python 3",
   "language": "python",
   "name": "python3"
  },
  "language_info": {
   "codemirror_mode": {
    "name": "ipython",
    "version": 3
   },
   "file_extension": ".py",
   "mimetype": "text/x-python",
   "name": "python",
   "nbconvert_exporter": "python",
   "pygments_lexer": "ipython3",
   "version": "3.7.4"
  }
 },
 "nbformat": 4,
 "nbformat_minor": 2
}
