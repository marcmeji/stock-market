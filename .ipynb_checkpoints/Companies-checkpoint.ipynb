{
 "cells": [
  {
   "cell_type": "code",
   "execution_count": 7,
   "metadata": {},
   "outputs": [],
   "source": [
    "import pandas as pd\n",
    "import numpy as np"
   ]
  },
  {
   "cell_type": "code",
   "execution_count": 8,
   "metadata": {},
   "outputs": [],
   "source": [
    "# Import all csv files with IBEX 35 Companies data\n",
    "# Add a column with Company name to each one\n",
    "# Concat all them into one DataFrame \n",
    "\n",
    "import glob\n",
    "import re\n",
    "\n",
    "files = glob.glob('data/*.csv')\n",
    "\n",
    "comp_names = []\n",
    "comp_list = []\n",
    "for file in files:\n",
    "    name = re.findall('\\\\\\(.+).csv', file)\n",
    "    name_string = ''.join(name)\n",
    "    comp_names.append(name_string)\n",
    "    df = pd.read_csv(file, index_col=None, header=0)\n",
    "    df['Company'] = name_string\n",
    "    comp_list.append(df)\n",
    "\n",
    "companies = pd.concat(comp_list, axis=0, ignore_index=True)"
   ]
  },
  {
   "cell_type": "code",
   "execution_count": 9,
   "metadata": {},
   "outputs": [
    {
     "data": {
      "text/html": [
       "<div>\n",
       "<style scoped>\n",
       "    .dataframe tbody tr th:only-of-type {\n",
       "        vertical-align: middle;\n",
       "    }\n",
       "\n",
       "    .dataframe tbody tr th {\n",
       "        vertical-align: top;\n",
       "    }\n",
       "\n",
       "    .dataframe thead th {\n",
       "        text-align: right;\n",
       "    }\n",
       "</style>\n",
       "<table border=\"1\" class=\"dataframe\">\n",
       "  <thead>\n",
       "    <tr style=\"text-align: right;\">\n",
       "      <th></th>\n",
       "      <th>Fecha</th>\n",
       "      <th>Último</th>\n",
       "      <th>Apertura</th>\n",
       "      <th>Máximo</th>\n",
       "      <th>Mínimo</th>\n",
       "      <th>Vol.</th>\n",
       "      <th>% var.</th>\n",
       "      <th>Company</th>\n",
       "    </tr>\n",
       "  </thead>\n",
       "  <tbody>\n",
       "    <tr>\n",
       "      <th>0</th>\n",
       "      <td>23.10.2019</td>\n",
       "      <td>91,425</td>\n",
       "      <td>91,750</td>\n",
       "      <td>92,350</td>\n",
       "      <td>91,275</td>\n",
       "      <td>-</td>\n",
       "      <td>-0,68%</td>\n",
       "      <td>Acciona</td>\n",
       "    </tr>\n",
       "    <tr>\n",
       "      <th>1</th>\n",
       "      <td>22.10.2019</td>\n",
       "      <td>92,050</td>\n",
       "      <td>91,600</td>\n",
       "      <td>92,700</td>\n",
       "      <td>91,400</td>\n",
       "      <td>52,67K</td>\n",
       "      <td>-0,05%</td>\n",
       "      <td>Acciona</td>\n",
       "    </tr>\n",
       "    <tr>\n",
       "      <th>2</th>\n",
       "      <td>21.10.2019</td>\n",
       "      <td>92,100</td>\n",
       "      <td>91,350</td>\n",
       "      <td>92,100</td>\n",
       "      <td>90,800</td>\n",
       "      <td>56,13K</td>\n",
       "      <td>0,99%</td>\n",
       "      <td>Acciona</td>\n",
       "    </tr>\n",
       "    <tr>\n",
       "      <th>3</th>\n",
       "      <td>18.10.2019</td>\n",
       "      <td>91,200</td>\n",
       "      <td>92,100</td>\n",
       "      <td>92,550</td>\n",
       "      <td>90,900</td>\n",
       "      <td>54,43K</td>\n",
       "      <td>-0,98%</td>\n",
       "      <td>Acciona</td>\n",
       "    </tr>\n",
       "    <tr>\n",
       "      <th>4</th>\n",
       "      <td>17.10.2019</td>\n",
       "      <td>92,100</td>\n",
       "      <td>92,100</td>\n",
       "      <td>92,350</td>\n",
       "      <td>91,250</td>\n",
       "      <td>70,36K</td>\n",
       "      <td>0,11%</td>\n",
       "      <td>Acciona</td>\n",
       "    </tr>\n",
       "  </tbody>\n",
       "</table>\n",
       "</div>"
      ],
      "text/plain": [
       "        Fecha  Último Apertura  Máximo  Mínimo    Vol.  % var.  Company\n",
       "0  23.10.2019  91,425   91,750  92,350  91,275       -  -0,68%  Acciona\n",
       "1  22.10.2019  92,050   91,600  92,700  91,400  52,67K  -0,05%  Acciona\n",
       "2  21.10.2019  92,100   91,350  92,100  90,800  56,13K   0,99%  Acciona\n",
       "3  18.10.2019  91,200   92,100  92,550  90,900  54,43K  -0,98%  Acciona\n",
       "4  17.10.2019  92,100   92,100  92,350  91,250  70,36K   0,11%  Acciona"
      ]
     },
     "execution_count": 9,
     "metadata": {},
     "output_type": "execute_result"
    }
   ],
   "source": [
    "companies.head()"
   ]
  },
  {
   "cell_type": "code",
   "execution_count": 10,
   "metadata": {},
   "outputs": [
    {
     "data": {
      "text/plain": [
       "(81021, 8)"
      ]
     },
     "execution_count": 10,
     "metadata": {},
     "output_type": "execute_result"
    }
   ],
   "source": [
    "companies.shape"
   ]
  },
  {
   "cell_type": "code",
   "execution_count": 11,
   "metadata": {},
   "outputs": [
    {
     "name": "stdout",
     "output_type": "stream",
     "text": [
      "<class 'pandas.core.frame.DataFrame'>\n",
      "RangeIndex: 81021 entries, 0 to 81020\n",
      "Data columns (total 8 columns):\n",
      "Fecha       81021 non-null object\n",
      "Último      81021 non-null object\n",
      "Apertura    81021 non-null object\n",
      "Máximo      81021 non-null object\n",
      "Mínimo      81021 non-null object\n",
      "Vol.        81021 non-null object\n",
      "% var.      81021 non-null object\n",
      "Company     81021 non-null object\n",
      "dtypes: object(8)\n",
      "memory usage: 4.9+ MB\n"
     ]
    }
   ],
   "source": [
    "companies.info()"
   ]
  },
  {
   "cell_type": "code",
   "execution_count": 12,
   "metadata": {},
   "outputs": [],
   "source": [
    "# Rename columns\n",
    "\n",
    "companies.columns = ['Date', 'Last', 'Open', 'Max', 'Min', 'Vol', 'Var_%', 'Company']"
   ]
  },
  {
   "cell_type": "code",
   "execution_count": 13,
   "metadata": {},
   "outputs": [
    {
     "data": {
      "text/html": [
       "<div>\n",
       "<style scoped>\n",
       "    .dataframe tbody tr th:only-of-type {\n",
       "        vertical-align: middle;\n",
       "    }\n",
       "\n",
       "    .dataframe tbody tr th {\n",
       "        vertical-align: top;\n",
       "    }\n",
       "\n",
       "    .dataframe thead th {\n",
       "        text-align: right;\n",
       "    }\n",
       "</style>\n",
       "<table border=\"1\" class=\"dataframe\">\n",
       "  <thead>\n",
       "    <tr style=\"text-align: right;\">\n",
       "      <th></th>\n",
       "      <th>Date</th>\n",
       "      <th>Last</th>\n",
       "      <th>Open</th>\n",
       "      <th>Max</th>\n",
       "      <th>Min</th>\n",
       "      <th>Vol</th>\n",
       "      <th>Var_%</th>\n",
       "      <th>Company</th>\n",
       "    </tr>\n",
       "  </thead>\n",
       "  <tbody>\n",
       "    <tr>\n",
       "      <th>0</th>\n",
       "      <td>2019-10-23</td>\n",
       "      <td>91,425</td>\n",
       "      <td>91,750</td>\n",
       "      <td>92,350</td>\n",
       "      <td>91,275</td>\n",
       "      <td>-</td>\n",
       "      <td>-0,68%</td>\n",
       "      <td>Acciona</td>\n",
       "    </tr>\n",
       "    <tr>\n",
       "      <th>1</th>\n",
       "      <td>2019-10-22</td>\n",
       "      <td>92,050</td>\n",
       "      <td>91,600</td>\n",
       "      <td>92,700</td>\n",
       "      <td>91,400</td>\n",
       "      <td>52,67K</td>\n",
       "      <td>-0,05%</td>\n",
       "      <td>Acciona</td>\n",
       "    </tr>\n",
       "    <tr>\n",
       "      <th>2</th>\n",
       "      <td>2019-10-21</td>\n",
       "      <td>92,100</td>\n",
       "      <td>91,350</td>\n",
       "      <td>92,100</td>\n",
       "      <td>90,800</td>\n",
       "      <td>56,13K</td>\n",
       "      <td>0,99%</td>\n",
       "      <td>Acciona</td>\n",
       "    </tr>\n",
       "    <tr>\n",
       "      <th>3</th>\n",
       "      <td>2019-10-18</td>\n",
       "      <td>91,200</td>\n",
       "      <td>92,100</td>\n",
       "      <td>92,550</td>\n",
       "      <td>90,900</td>\n",
       "      <td>54,43K</td>\n",
       "      <td>-0,98%</td>\n",
       "      <td>Acciona</td>\n",
       "    </tr>\n",
       "    <tr>\n",
       "      <th>4</th>\n",
       "      <td>2019-10-17</td>\n",
       "      <td>92,100</td>\n",
       "      <td>92,100</td>\n",
       "      <td>92,350</td>\n",
       "      <td>91,250</td>\n",
       "      <td>70,36K</td>\n",
       "      <td>0,11%</td>\n",
       "      <td>Acciona</td>\n",
       "    </tr>\n",
       "  </tbody>\n",
       "</table>\n",
       "</div>"
      ],
      "text/plain": [
       "        Date    Last    Open     Max     Min     Vol   Var_%  Company\n",
       "0 2019-10-23  91,425  91,750  92,350  91,275       -  -0,68%  Acciona\n",
       "1 2019-10-22  92,050  91,600  92,700  91,400  52,67K  -0,05%  Acciona\n",
       "2 2019-10-21  92,100  91,350  92,100  90,800  56,13K   0,99%  Acciona\n",
       "3 2019-10-18  91,200  92,100  92,550  90,900  54,43K  -0,98%  Acciona\n",
       "4 2019-10-17  92,100  92,100  92,350  91,250  70,36K   0,11%  Acciona"
      ]
     },
     "execution_count": 13,
     "metadata": {},
     "output_type": "execute_result"
    }
   ],
   "source": [
    "# Date column to DateTime\n",
    "\n",
    "companies['Date'] = pd.to_datetime(companies['Date'], format='%d.%m.%Y')\n",
    "companies.head()"
   ]
  },
  {
   "cell_type": "code",
   "execution_count": 14,
   "metadata": {},
   "outputs": [
    {
     "data": {
      "text/html": [
       "<div>\n",
       "<style scoped>\n",
       "    .dataframe tbody tr th:only-of-type {\n",
       "        vertical-align: middle;\n",
       "    }\n",
       "\n",
       "    .dataframe tbody tr th {\n",
       "        vertical-align: top;\n",
       "    }\n",
       "\n",
       "    .dataframe thead th {\n",
       "        text-align: right;\n",
       "    }\n",
       "</style>\n",
       "<table border=\"1\" class=\"dataframe\">\n",
       "  <thead>\n",
       "    <tr style=\"text-align: right;\">\n",
       "      <th></th>\n",
       "      <th>Date</th>\n",
       "      <th>Last</th>\n",
       "      <th>Open</th>\n",
       "      <th>Max</th>\n",
       "      <th>Min</th>\n",
       "      <th>Vol</th>\n",
       "      <th>Var_%</th>\n",
       "      <th>Company</th>\n",
       "    </tr>\n",
       "  </thead>\n",
       "  <tbody>\n",
       "    <tr>\n",
       "      <th>0</th>\n",
       "      <td>2019-10-23</td>\n",
       "      <td>91.425</td>\n",
       "      <td>91.75</td>\n",
       "      <td>92.35</td>\n",
       "      <td>91.275</td>\n",
       "      <td>-</td>\n",
       "      <td>-0,68%</td>\n",
       "      <td>Acciona</td>\n",
       "    </tr>\n",
       "    <tr>\n",
       "      <th>1</th>\n",
       "      <td>2019-10-22</td>\n",
       "      <td>92.050</td>\n",
       "      <td>91.60</td>\n",
       "      <td>92.70</td>\n",
       "      <td>91.400</td>\n",
       "      <td>52,67K</td>\n",
       "      <td>-0,05%</td>\n",
       "      <td>Acciona</td>\n",
       "    </tr>\n",
       "    <tr>\n",
       "      <th>2</th>\n",
       "      <td>2019-10-21</td>\n",
       "      <td>92.100</td>\n",
       "      <td>91.35</td>\n",
       "      <td>92.10</td>\n",
       "      <td>90.800</td>\n",
       "      <td>56,13K</td>\n",
       "      <td>0,99%</td>\n",
       "      <td>Acciona</td>\n",
       "    </tr>\n",
       "    <tr>\n",
       "      <th>3</th>\n",
       "      <td>2019-10-18</td>\n",
       "      <td>91.200</td>\n",
       "      <td>92.10</td>\n",
       "      <td>92.55</td>\n",
       "      <td>90.900</td>\n",
       "      <td>54,43K</td>\n",
       "      <td>-0,98%</td>\n",
       "      <td>Acciona</td>\n",
       "    </tr>\n",
       "    <tr>\n",
       "      <th>4</th>\n",
       "      <td>2019-10-17</td>\n",
       "      <td>92.100</td>\n",
       "      <td>92.10</td>\n",
       "      <td>92.35</td>\n",
       "      <td>91.250</td>\n",
       "      <td>70,36K</td>\n",
       "      <td>0,11%</td>\n",
       "      <td>Acciona</td>\n",
       "    </tr>\n",
       "  </tbody>\n",
       "</table>\n",
       "</div>"
      ],
      "text/plain": [
       "        Date    Last   Open    Max     Min     Vol   Var_%  Company\n",
       "0 2019-10-23  91.425  91.75  92.35  91.275       -  -0,68%  Acciona\n",
       "1 2019-10-22  92.050  91.60  92.70  91.400  52,67K  -0,05%  Acciona\n",
       "2 2019-10-21  92.100  91.35  92.10  90.800  56,13K   0,99%  Acciona\n",
       "3 2019-10-18  91.200  92.10  92.55  90.900  54,43K  -0,98%  Acciona\n",
       "4 2019-10-17  92.100  92.10  92.35  91.250  70,36K   0,11%  Acciona"
      ]
     },
     "execution_count": 14,
     "metadata": {},
     "output_type": "execute_result"
    }
   ],
   "source": [
    "# Numeric columns from string to numeric\n",
    "\n",
    "def number_formatting(x):\n",
    "    a = x.replace('.','')\n",
    "    return a.replace(',','.')\n",
    "\n",
    "for col in ['Last', 'Open', 'Max', 'Min']:\n",
    "    companies[col] = companies[col].apply(number_formatting)\n",
    "    companies[col] = pd.to_numeric(companies[col])\n",
    "    \n",
    "companies.head()"
   ]
  },
  {
   "cell_type": "code",
   "execution_count": 15,
   "metadata": {},
   "outputs": [
    {
     "name": "stdout",
     "output_type": "stream",
     "text": [
      "<class 'pandas.core.frame.DataFrame'>\n",
      "RangeIndex: 81021 entries, 0 to 81020\n",
      "Data columns (total 8 columns):\n",
      "Date       81021 non-null datetime64[ns]\n",
      "Last       81021 non-null float64\n",
      "Open       81021 non-null float64\n",
      "Max        81021 non-null float64\n",
      "Min        81021 non-null float64\n",
      "Vol        81021 non-null object\n",
      "Var_%      81021 non-null object\n",
      "Company    81021 non-null object\n",
      "dtypes: datetime64[ns](1), float64(4), object(3)\n",
      "memory usage: 4.9+ MB\n"
     ]
    }
   ],
   "source": [
    "companies.info()"
   ]
  },
  {
   "cell_type": "code",
   "execution_count": 16,
   "metadata": {},
   "outputs": [
    {
     "name": "stdout",
     "output_type": "stream",
     "text": [
      "780,68K    1\n",
      "230,13K    1\n",
      "182,39K    1\n",
      "970,50K    1\n",
      "48,19K     1\n",
      "Name: Vol, dtype: int64\n",
      "-        6112\n",
      "1,08M     231\n",
      "1,05M     225\n",
      "1,02M     222\n",
      "1,10M     221\n",
      "Name: Vol, dtype: int64\n"
     ]
    }
   ],
   "source": [
    "print(companies['Vol'].value_counts().tail())\n",
    "print(companies['Vol'].value_counts().head())\n",
    "\n",
    "# Apparently, we have 6112 null values (-)\n",
    "# Since this will be a key value in our analysis, we will drop those rows once the column is numeric.\n",
    "# There are values with 'M' and values with 'K', we have to convert them to the correct numbers"
   ]
  },
  {
   "cell_type": "code",
   "execution_count": 17,
   "metadata": {},
   "outputs": [],
   "source": [
    "def volume_change(x):\n",
    "    if 'K' in x:\n",
    "        a = x.replace('K','')\n",
    "        return a.replace(',','.')\n",
    "    if 'M' in x:\n",
    "        a = x.replace('M','')\n",
    "        return a.replace(',','000.')\n",
    "            \n",
    "companies['Vol'] = pd.to_numeric(companies['Vol'].apply(volume_change))"
   ]
  },
  {
   "cell_type": "code",
   "execution_count": 18,
   "metadata": {},
   "outputs": [
    {
     "data": {
      "text/html": [
       "<div>\n",
       "<style scoped>\n",
       "    .dataframe tbody tr th:only-of-type {\n",
       "        vertical-align: middle;\n",
       "    }\n",
       "\n",
       "    .dataframe tbody tr th {\n",
       "        vertical-align: top;\n",
       "    }\n",
       "\n",
       "    .dataframe thead th {\n",
       "        text-align: right;\n",
       "    }\n",
       "</style>\n",
       "<table border=\"1\" class=\"dataframe\">\n",
       "  <thead>\n",
       "    <tr style=\"text-align: right;\">\n",
       "      <th></th>\n",
       "      <th>count</th>\n",
       "      <th>mean</th>\n",
       "      <th>std</th>\n",
       "      <th>min</th>\n",
       "      <th>25%</th>\n",
       "      <th>50%</th>\n",
       "      <th>75%</th>\n",
       "      <th>max</th>\n",
       "    </tr>\n",
       "  </thead>\n",
       "  <tbody>\n",
       "    <tr>\n",
       "      <th>Last</th>\n",
       "      <td>81021.0</td>\n",
       "      <td>17.232930</td>\n",
       "      <td>21.687526</td>\n",
       "      <td>0.06</td>\n",
       "      <td>5.458</td>\n",
       "      <td>10.940</td>\n",
       "      <td>19.31</td>\n",
       "      <td>183.70</td>\n",
       "    </tr>\n",
       "    <tr>\n",
       "      <th>Open</th>\n",
       "      <td>81021.0</td>\n",
       "      <td>17.239551</td>\n",
       "      <td>21.688553</td>\n",
       "      <td>0.05</td>\n",
       "      <td>5.460</td>\n",
       "      <td>10.950</td>\n",
       "      <td>19.32</td>\n",
       "      <td>183.00</td>\n",
       "    </tr>\n",
       "    <tr>\n",
       "      <th>Max</th>\n",
       "      <td>81021.0</td>\n",
       "      <td>17.414500</td>\n",
       "      <td>21.875726</td>\n",
       "      <td>0.06</td>\n",
       "      <td>5.522</td>\n",
       "      <td>11.070</td>\n",
       "      <td>19.51</td>\n",
       "      <td>184.90</td>\n",
       "    </tr>\n",
       "    <tr>\n",
       "      <th>Min</th>\n",
       "      <td>81021.0</td>\n",
       "      <td>17.045414</td>\n",
       "      <td>21.490385</td>\n",
       "      <td>0.05</td>\n",
       "      <td>5.400</td>\n",
       "      <td>10.815</td>\n",
       "      <td>19.12</td>\n",
       "      <td>182.70</td>\n",
       "    </tr>\n",
       "    <tr>\n",
       "      <th>Vol</th>\n",
       "      <td>74909.0</td>\n",
       "      <td>6843.011430</td>\n",
       "      <td>16612.481304</td>\n",
       "      <td>0.02</td>\n",
       "      <td>530.030</td>\n",
       "      <td>1000.380</td>\n",
       "      <td>5000.11</td>\n",
       "      <td>521000.34</td>\n",
       "    </tr>\n",
       "  </tbody>\n",
       "</table>\n",
       "</div>"
      ],
      "text/plain": [
       "        count         mean           std   min      25%       50%      75%  \\\n",
       "Last  81021.0    17.232930     21.687526  0.06    5.458    10.940    19.31   \n",
       "Open  81021.0    17.239551     21.688553  0.05    5.460    10.950    19.32   \n",
       "Max   81021.0    17.414500     21.875726  0.06    5.522    11.070    19.51   \n",
       "Min   81021.0    17.045414     21.490385  0.05    5.400    10.815    19.12   \n",
       "Vol   74909.0  6843.011430  16612.481304  0.02  530.030  1000.380  5000.11   \n",
       "\n",
       "            max  \n",
       "Last     183.70  \n",
       "Open     183.00  \n",
       "Max      184.90  \n",
       "Min      182.70  \n",
       "Vol   521000.34  "
      ]
     },
     "execution_count": 18,
     "metadata": {},
     "output_type": "execute_result"
    }
   ],
   "source": [
    "companies.describe().T"
   ]
  },
  {
   "cell_type": "code",
   "execution_count": 22,
   "metadata": {},
   "outputs": [],
   "source": [
    "companies_nonulls = companies.dropna()"
   ]
  },
  {
   "cell_type": "code",
   "execution_count": 24,
   "metadata": {},
   "outputs": [
    {
     "name": "stdout",
     "output_type": "stream",
     "text": [
      "<class 'pandas.core.frame.DataFrame'>\n",
      "Int64Index: 74909 entries, 1 to 81020\n",
      "Data columns (total 8 columns):\n",
      "Date       74909 non-null datetime64[ns]\n",
      "Last       74909 non-null float64\n",
      "Open       74909 non-null float64\n",
      "Max        74909 non-null float64\n",
      "Min        74909 non-null float64\n",
      "Vol        74909 non-null float64\n",
      "Var_%      74909 non-null object\n",
      "Company    74909 non-null object\n",
      "dtypes: datetime64[ns](1), float64(5), object(2)\n",
      "memory usage: 5.1+ MB\n"
     ]
    }
   ],
   "source": [
    "companies_nonulls.info()"
   ]
  },
  {
   "cell_type": "code",
   "execution_count": 23,
   "metadata": {},
   "outputs": [
    {
     "data": {
      "text/plain": [
       "<matplotlib.axes._subplots.AxesSubplot at 0x1bdbda806a0>"
      ]
     },
     "execution_count": 23,
     "metadata": {},
     "output_type": "execute_result"
    },
    {
     "data": {
      "image/png": "[encoded data removed]",
      "text/plain": [
       "<Figure size 432x288 with 1 Axes>"
      ]
     },
     "metadata": {
      "needs_background": "light"
     },
     "output_type": "display_data"
    }
   ],
   "source": [
    "import matplotlib.pyplot as plt\n",
    "import seaborn as sns\n",
    "%matplotlib inline\n",
    "\n",
    "sns.boxplot(companies_nonulls['Vol'])"
   ]
  },
  {
   "cell_type": "code",
   "execution_count": 25,
   "metadata": {},
   "outputs": [
    {
     "name": "stderr",
     "output_type": "stream",
     "text": [
      "C:\\Users\\marcm\\Anaconda3\\lib\\site-packages\\ipykernel_launcher.py:5: SettingWithCopyWarning: \n",
      "A value is trying to be set on a copy of a slice from a DataFrame.\n",
      "Try using .loc[row_indexer,col_indexer] = value instead\n",
      "\n",
      "See the caveats in the documentation: http://pandas.pydata.org/pandas-docs/stable/indexing.html#indexing-view-versus-copy\n",
      "  \"\"\"\n"
     ]
    }
   ],
   "source": [
    "def var_reformatting(x):\n",
    "    a = x.replace(',','.')\n",
    "    return a.replace('%','')\n",
    "\n",
    "companies_nonulls['Var_%'] = pd.to_numeric(companies_nonulls['Var_%'].apply(var_reformatting))"
   ]
  },
  {
   "cell_type": "code",
   "execution_count": 26,
   "metadata": {},
   "outputs": [
    {
     "data": {
      "text/html": [
       "<div>\n",
       "<style scoped>\n",
       "    .dataframe tbody tr th:only-of-type {\n",
       "        vertical-align: middle;\n",
       "    }\n",
       "\n",
       "    .dataframe tbody tr th {\n",
       "        vertical-align: top;\n",
       "    }\n",
       "\n",
       "    .dataframe thead th {\n",
       "        text-align: right;\n",
       "    }\n",
       "</style>\n",
       "<table border=\"1\" class=\"dataframe\">\n",
       "  <thead>\n",
       "    <tr style=\"text-align: right;\">\n",
       "      <th></th>\n",
       "      <th>Date</th>\n",
       "      <th>Last</th>\n",
       "      <th>Open</th>\n",
       "      <th>Max</th>\n",
       "      <th>Min</th>\n",
       "      <th>Vol</th>\n",
       "      <th>Var_%</th>\n",
       "      <th>Company</th>\n",
       "    </tr>\n",
       "  </thead>\n",
       "  <tbody>\n",
       "    <tr>\n",
       "      <th>1</th>\n",
       "      <td>2019-10-22</td>\n",
       "      <td>92.05</td>\n",
       "      <td>91.60</td>\n",
       "      <td>92.70</td>\n",
       "      <td>91.40</td>\n",
       "      <td>52.67</td>\n",
       "      <td>-0.05</td>\n",
       "      <td>Acciona</td>\n",
       "    </tr>\n",
       "    <tr>\n",
       "      <th>2</th>\n",
       "      <td>2019-10-21</td>\n",
       "      <td>92.10</td>\n",
       "      <td>91.35</td>\n",
       "      <td>92.10</td>\n",
       "      <td>90.80</td>\n",
       "      <td>56.13</td>\n",
       "      <td>0.99</td>\n",
       "      <td>Acciona</td>\n",
       "    </tr>\n",
       "    <tr>\n",
       "      <th>3</th>\n",
       "      <td>2019-10-18</td>\n",
       "      <td>91.20</td>\n",
       "      <td>92.10</td>\n",
       "      <td>92.55</td>\n",
       "      <td>90.90</td>\n",
       "      <td>54.43</td>\n",
       "      <td>-0.98</td>\n",
       "      <td>Acciona</td>\n",
       "    </tr>\n",
       "    <tr>\n",
       "      <th>4</th>\n",
       "      <td>2019-10-17</td>\n",
       "      <td>92.10</td>\n",
       "      <td>92.10</td>\n",
       "      <td>92.35</td>\n",
       "      <td>91.25</td>\n",
       "      <td>70.36</td>\n",
       "      <td>0.11</td>\n",
       "      <td>Acciona</td>\n",
       "    </tr>\n",
       "    <tr>\n",
       "      <th>5</th>\n",
       "      <td>2019-10-16</td>\n",
       "      <td>92.00</td>\n",
       "      <td>91.20</td>\n",
       "      <td>92.70</td>\n",
       "      <td>90.75</td>\n",
       "      <td>73.84</td>\n",
       "      <td>0.33</td>\n",
       "      <td>Acciona</td>\n",
       "    </tr>\n",
       "  </tbody>\n",
       "</table>\n",
       "</div>"
      ],
      "text/plain": [
       "        Date   Last   Open    Max    Min    Vol  Var_%  Company\n",
       "1 2019-10-22  92.05  91.60  92.70  91.40  52.67  -0.05  Acciona\n",
       "2 2019-10-21  92.10  91.35  92.10  90.80  56.13   0.99  Acciona\n",
       "3 2019-10-18  91.20  92.10  92.55  90.90  54.43  -0.98  Acciona\n",
       "4 2019-10-17  92.10  92.10  92.35  91.25  70.36   0.11  Acciona\n",
       "5 2019-10-16  92.00  91.20  92.70  90.75  73.84   0.33  Acciona"
      ]
     },
     "execution_count": 26,
     "metadata": {},
     "output_type": "execute_result"
    }
   ],
   "source": [
    "companies_nonulls.head()"
   ]
  },
  {
   "cell_type": "code",
   "execution_count": 27,
   "metadata": {},
   "outputs": [
    {
     "data": {
      "text/plain": [
       "<matplotlib.axes._subplots.AxesSubplot at 0x1bdbff72e48>"
      ]
     },
     "execution_count": 27,
     "metadata": {},
     "output_type": "execute_result"
    },
    {
     "data": {
      "image/png": "[encoded data removed]",
      "text/plain": [
       "<Figure size 432x288 with 1 Axes>"
      ]
     },
     "metadata": {
      "needs_background": "light"
     },
     "output_type": "display_data"
    }
   ],
   "source": [
    "sns.boxplot(companies_nonulls['Var_%'])"
   ]
  },
  {
   "cell_type": "code",
   "execution_count": 28,
   "metadata": {},
   "outputs": [],
   "source": [
    "# Remove outliers from Variation column\n",
    "\n",
    "q1 = companies_nonulls['Var_%'].quantile(0.25)\n",
    "q3 = companies_nonulls['Var_%'].quantile(0.75)\n",
    "iqr = q3-q1 \n",
    "limit_low  = q1-1.5*iqr\n",
    "limit_high = q3+1.5*iqr\n",
    "\n",
    "companies_nonulls = companies_nonulls.loc[(companies_nonulls['Var_%'] > limit_low) & (companies_nonulls['Var_%'] < limit_high)]\n"
   ]
  },
  {
   "cell_type": "code",
   "execution_count": 29,
   "metadata": {},
   "outputs": [
    {
     "data": {
      "text/plain": [
       "<matplotlib.axes._subplots.AxesSubplot at 0x1bdbff93710>"
      ]
     },
     "execution_count": 29,
     "metadata": {},
     "output_type": "execute_result"
    },
    {
     "data": {
      "image/png": "[encoded data removed]",
      "text/plain": [
       "<Figure size 432x288 with 1 Axes>"
      ]
     },
     "metadata": {
      "needs_background": "light"
     },
     "output_type": "display_data"
    }
   ],
   "source": [
    "sns.boxplot(companies_nonulls['Var_%'])"
   ]
  },
  {
   "cell_type": "code",
   "execution_count": 30,
   "metadata": {},
   "outputs": [
    {
     "data": {
      "text/plain": [
       "(70806, 8)"
      ]
     },
     "execution_count": 30,
     "metadata": {},
     "output_type": "execute_result"
    }
   ],
   "source": [
    "companies_nonulls.shape"
   ]
  },
  {
   "cell_type": "code",
   "execution_count": 31,
   "metadata": {},
   "outputs": [
    {
     "name": "stdout",
     "output_type": "stream",
     "text": [
      "<class 'pandas.core.frame.DataFrame'>\n",
      "Int64Index: 70806 entries, 1 to 81020\n",
      "Data columns (total 8 columns):\n",
      "Date       70806 non-null datetime64[ns]\n",
      "Last       70806 non-null float64\n",
      "Open       70806 non-null float64\n",
      "Max        70806 non-null float64\n",
      "Min        70806 non-null float64\n",
      "Vol        70806 non-null float64\n",
      "Var_%      70806 non-null float64\n",
      "Company    70806 non-null object\n",
      "dtypes: datetime64[ns](1), float64(6), object(1)\n",
      "memory usage: 4.9+ MB\n"
     ]
    }
   ],
   "source": [
    "companies_nonulls.info()"
   ]
  },
  {
   "cell_type": "code",
   "execution_count": 32,
   "metadata": {},
   "outputs": [],
   "source": [
    "#companies_nonulls.to_csv('companies.csv', index=False)"
   ]
  },
  {
   "cell_type": "code",
   "execution_count": null,
   "metadata": {},
   "outputs": [],
   "source": []
  }
 ],
 "metadata": {
  "kernelspec": {
   "display_name": "Python 3",
   "language": "python",
   "name": "python3"
  },
  "language_info": {
   "codemirror_mode": {
    "name": "ipython",
    "version": 3
   },
   "file_extension": ".py",
   "mimetype": "text/x-python",
   "name": "python",
   "nbconvert_exporter": "python",
   "pygments_lexer": "ipython3",
   "version": "3.7.1"
  }
 },
 "nbformat": 4,
 "nbformat_minor": 2
}
